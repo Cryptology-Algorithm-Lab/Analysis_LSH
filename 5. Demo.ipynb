{
 "cells": [
  {
   "cell_type": "markdown",
   "id": "b7982f9b-371d-47d2-9c43-8aee9f426d1b",
   "metadata": {},
   "source": [
    "# Demo\n",
    "This notebook provides visualizations of the recovered faces."
   ]
  },
  {
   "cell_type": "code",
   "execution_count": null,
   "id": "37d4fa53-9c8c-4952-ba1f-d0a629ce5ffb",
   "metadata": {},
   "outputs": [],
   "source": [
    "import matplotlib.pyplot as plt\n",
    "from eval_attack import for_figure\n",
    "\n",
    "from backbones import get_backbone_v2\n",
    "from feats.utils_feat import load_bin\n",
    "from preset import get_LSH_preset\n",
    "from INV import get_nbnet\n",
    "\n",
    "device = \"\" # your device setting \"cpu\" or \"cuda\""
   ]
  },
  {
   "cell_type": "markdown",
   "id": "6a294a09-8fbd-472b-a750-583f67a614a6",
   "metadata": {},
   "source": [
    "### Load LSH preset"
   ]
  },
  {
   "cell_type": "code",
   "execution_count": null,
   "id": "b17e287a-b553-45cc-9884-576c25b05fe0",
   "metadata": {},
   "outputs": [],
   "source": [
    "LSHs = get_LSH_preset(device)"
   ]
  },
  {
   "cell_type": "markdown",
   "id": "d02f8e42-9e68-449e-a000-5a5d5613175d",
   "metadata": {},
   "source": [
    "### Load dataset & pre-trained models"
   ]
  },
  {
   "cell_type": "code",
   "execution_count": null,
   "id": "a9ef1285-4011-4fa8-ac5f-59ff0b9ee23a",
   "metadata": {},
   "outputs": [],
   "source": [
    "test_dir = \"\" # input your dataset(LFW)'s directory\n",
    "lfw = load_bin(test_dir + '/lfw.bin', (112,112))\n",
    "\n",
    "target_dir = \"\" # input your pre-trained target backbone model's directory\n",
    "backbone = get_backbone_v2((\"r50\", target_dir, False), device) # If supported by get_backbone_v2, you can change \"r50\" to  other models.\n",
    "\n",
    "nbnet_dir = \"\" # input your pre-trainde NbNet model's directory\n",
    "nbnet = get_nbnet(nbnet_dir, device)"
   ]
  },
  {
   "cell_type": "markdown",
   "id": "5ddb1708-2161-41c6-93cf-2d140a2239ce",
   "metadata": {},
   "source": [
    "### Function for printing figures\n",
    "\n",
    "##### The first row shows the results of an attack using the genetic method, and the second row shows the results of an attack using the proposed method. \n",
    "\n",
    "##### The numbers on each image mean, in order from the top, the lsh score and purity in a type 1 attack, and the lsh score and cosine similarity in a type 2 attack."
   ]
  },
  {
   "cell_type": "markdown",
   "id": "e76b60b5-8a71-4dab-a32f-ad350b82db55",
   "metadata": {},
   "source": [
    "**NOTE** This reproduces Figure 2."
   ]
  },
  {
   "cell_type": "code",
   "execution_count": null,
   "id": "46bcf536",
   "metadata": {},
   "outputs": [],
   "source": [
    "def print_fig(mem_gen, mem_ours, source):\n",
    "    \n",
    "                           \n",
    "    ten2img = lambda x: (x[0].detach().cpu().numpy().transpose(1,2,0) + 1) / 2\n",
    "    \n",
    "    n_figures = len(mem_ours) + 1\n",
    "    \n",
    "    plt.figure(figsize=(15,15))\n",
    "    plt.subplot(2, n_figures, 1)\n",
    "    plt.imshow(ten2img(source))\n",
    "    plt.axis(\"off\")\n",
    "    plt.title(\"Source\", fontsize = 10)\n",
    "    \n",
    "    for idx, payload in enumerate(mem_gen):\n",
    "        name, img, score1, score2, purity, cosine = payload\n",
    "        \n",
    "        plt.subplot(2, n_figures, idx + 2)\n",
    "        plt.imshow(ten2img(img))\n",
    "        plt.axis(\"off\")\n",
    "        plt.title(name + f\"\\n{score1}\\n{purity:.4f}\\n{score2}\\n{cosine:.4f}\", fontsize = 10)\n",
    "        \n",
    "    plt.subplot(2, n_figures, n_figures + 1)\n",
    "    plt.imshow(ten2img(source))\n",
    "    plt.axis(\"off\")\n",
    "    plt.title(\"Source\", fontsize = 10)\n",
    "    \n",
    "    for idx, payload in enumerate(mem_ours):\n",
    "        name, img, score1, score2, purity, cosine = payload\n",
    "        \n",
    "        plt.subplot(2, n_figures, n_figures + idx + 2)\n",
    "        plt.imshow(ten2img(img))\n",
    "        plt.axis(\"off\")\n",
    "        plt.title(name + f\"\\n{score1}\\n{purity:.4f}\\n{score2}\\n{cosine:.4f}\", fontsize = 10)\n",
    "\n",
    "    plt.show()"
   ]
  },
  {
   "cell_type": "markdown",
   "id": "339046f3-a10b-4306-9de8-2a241571d08e",
   "metadata": {},
   "source": [
    "### Generate figure's info \n",
    "##### (attack with proposed method, genetic method about input index of dataset)\n",
    "\n",
    "##### If there is no input for the index, it proceeds to a random index."
   ]
  },
  {
   "cell_type": "code",
   "execution_count": null,
   "id": "5512419a-46a3-43af-8ef0-bc9211aab051",
   "metadata": {
    "scrolled": true
   },
   "outputs": [],
   "source": [
    "mem_gen, mem_ours, source = for_figure(lfw, LSHs, backbone, nbnet, device, index = None)\n",
    "print_fig(mem_gen, mem_ours, source)"
   ]
  },
  {
   "cell_type": "markdown",
   "id": "23578bd9-7f37-4f86-8e9e-f341cbb0dc9d",
   "metadata": {},
   "source": [
    "### Index set of figure 2."
   ]
  },
  {
   "cell_type": "code",
   "execution_count": null,
   "id": "7d426ac8-d596-4020-84c3-5e52a465daf6",
   "metadata": {
    "scrolled": true
   },
   "outputs": [],
   "source": [
    "idx_set = [1105, 10059, 11737]\n",
    "for ind in idx_set:\n",
    "    mem_gen, mem_ours, source = for_figure(lfw, LSHs, backbone, nbnet, device, index = ind)\n",
    "    print_fig(mem_gen, mem_ours, source)"
   ]
  }
 ],
 "metadata": {
  "kernelspec": {
   "display_name": "Python 3 (ipykernel)",
   "language": "python",
   "name": "python3"
  },
  "language_info": {
   "codemirror_mode": {
    "name": "ipython",
    "version": 3
   },
   "file_extension": ".py",
   "mimetype": "text/x-python",
   "name": "python",
   "nbconvert_exporter": "python",
   "pygments_lexer": "ipython3",
   "version": "3.11.4"
  }
 },
 "nbformat": 4,
 "nbformat_minor": 5
}
