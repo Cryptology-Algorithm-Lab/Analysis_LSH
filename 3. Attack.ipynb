{
 "cells": [
  {
   "cell_type": "markdown",
   "id": "8f7a8c7e-a38a-4024-b1a5-b2e4779580d9",
   "metadata": {},
   "source": [
    "# Attack\n",
    "In this notebook, we demonstrate the proposed attack algorithm by conducting pre-image attacks on templates enrolled in `2. LSHS`. For comparison, we also implemented a previous genetic algorithm-based attack."
   ]
  },
  {
   "cell_type": "code",
   "execution_count": null,
   "id": "79b39a05-f6b7-4e90-bf98-a1b99c9394c8",
   "metadata": {},
   "outputs": [],
   "source": [
    "import torch\n",
    "import torch.nn.functional as F\n",
    "\n",
    "from feats.utils_feat import feat_ext, load_bin\n",
    "from fr_utils import get_backbone_v2\n",
    "from INV import get_nbnet\n",
    "from preset import get_LSH_preset\n",
    "from eval_attack import eval_ASR, eval_ASR_GEN, Recover_pre, Recover_pre_GEN"
   ]
  },
  {
   "cell_type": "code",
   "execution_count": null,
   "id": "1a78f7c6-22b4-4233-9639-4279cf2f6d8a",
   "metadata": {},
   "outputs": [],
   "source": [
    "# Settings\n",
    "device = \"\" # device setting \"cpu\" or \"cuda\"\n",
    "target_dir = \"\" # input your pre-trained target backbone model's directory\n",
    "nbnet_dir = \"\" # input your pre-trainde NbNet model's directory\n",
    "test_dir = \"\" # input your dataset(LFW)'s directory\n",
    "tmp_dir = \"\" # directory where you've already saved LSH templates"
   ]
  },
  {
   "cell_type": "markdown",
   "id": "f3bddbb8-7b79-4b82-9b71-93dff2666b60",
   "metadata": {},
   "source": [
    "### Get Preset LSHs"
   ]
  },
  {
   "cell_type": "code",
   "execution_count": null,
   "id": "982befd1-41b3-4fd6-a7f9-d7f3ec571fdd",
   "metadata": {
    "scrolled": true
   },
   "outputs": [],
   "source": [
    "LSHs = get_LSH_preset(device)"
   ]
  },
  {
   "cell_type": "markdown",
   "id": "96e095c3-9b89-4449-9f41-f02dadd5677e",
   "metadata": {},
   "source": [
    "### Load taget model & Extract Feature"
   ]
  },
  {
   "cell_type": "code",
   "execution_count": null,
   "id": "5c39ee53-0ac7-4829-838f-ab1f86f906ea",
   "metadata": {},
   "outputs": [],
   "source": [
    "r50_glint_arc = get_backbone_v2((\"r50\", target_dir, False), device) # If supported by get_backbone_v2, you can change \"r50\" to  other models.\n",
    "nbnet = get_nbnet(nbnet_dir, device)\n",
    "lfw = load_bin(test_dir + '/lfw.bin', (112,112))\n",
    "lfw_feat = feat_ext(lfw, r50_glint_arc, 512, device)"
   ]
  },
  {
   "cell_type": "markdown",
   "id": "3a23fd2d-1b13-413c-ad94-adb6643df9ab",
   "metadata": {},
   "source": [
    "### Attack Setting \n",
    "##### atk_[LSH] = (initailization, loss(mean/sum), loss(absolute/pow))\n",
    "##### thx_[LSH] = (threshold)"
   ]
  },
  {
   "cell_type": "code",
   "execution_count": null,
   "id": "d1a2a46a-f594-433c-82a1-aa9140a87e5b",
   "metadata": {},
   "outputs": [],
   "source": [
    "atk_configs = dict()\n",
    "atk_configs[\"BH\"] = (True, \"s\", \"abs\")\n",
    "atk_configs[\"GRP\"] = (True, \"s\", \"abs\")\n",
    "atk_configs[\"URP\"] = (False, \"s\", \"abs\")\n",
    "atk_configs[\"DIoM\"] = (True, \"s\", \"abs\")\n",
    "atk_configs[\"IMM\"] = (True, \"s\", \"abs\")\n",
    "atk_configs[\"ABH\"] = (True, \"s\", \"abs\")\n",
    "atk_configs[\"Jiang\"] = (True, \"s\", \"pow\")\n",
    "\n",
    "thx_configs = dict()\n",
    "thx_configs[\"BH\"] = 293\n",
    "thx_configs[\"GRP\"] = 43\n",
    "thx_configs[\"URP\"] = 23\n",
    "thx_configs[\"DIoM\"] = 291\n",
    "thx_configs[\"IMM\"] = 90\n",
    "thx_configs[\"ABH\"] = 1\n",
    "thx_configs[\"Jiang\"] = 181\n",
    "thx_configs[\"backbone\"] = 0.2533"
   ]
  },
  {
   "cell_type": "markdown",
   "id": "c882a44d-7383-41fe-8fe7-ca2fa3a8e5c0",
   "metadata": {},
   "source": [
    "### Recovery pre_image"
   ]
  },
  {
   "cell_type": "markdown",
   "id": "4767c8ec-d42f-4743-9376-d59a6705dadf",
   "metadata": {},
   "source": [
    "**NOTE** This reproduces the Table 4 (Purity Analysis)."
   ]
  },
  {
   "cell_type": "code",
   "execution_count": null,
   "id": "7510bf82-26d7-49e4-8aff-44540e9618da",
   "metadata": {},
   "outputs": [],
   "source": [
    "pre_out_dir = \"\" # directory where you want to save the recovered pre-image from LSH templates by proposed method\n",
    "_ = Recover_pre(LSHs, lfw_feat, atk_configs, device, tmp_dir=tmp_dir, out_dir=pre_out_dir)\n",
    "\n",
    "pre_gen_out_dir = \"\" # directory where you want to save the recovered pre-image from LSH templates by genetic method\n",
    "_ = Recover_pre_GEN(LSHs, lfw_feat, atk_configs, device, tmp_dir=tmp_dir, out_dir=pre_gen_out_dir)"
   ]
  },
  {
   "cell_type": "markdown",
   "id": "cc7a1918-88c2-4d83-8a93-607317ab9148",
   "metadata": {},
   "source": [
    "### Proposed Attack - ASR1, ASR2"
   ]
  },
  {
   "cell_type": "markdown",
   "id": "f009275d-0d24-4169-b588-1fca167e2c92",
   "metadata": {},
   "source": [
    "**NOTE** This reproduces the remaining rows in Table 3."
   ]
  },
  {
   "cell_type": "code",
   "execution_count": null,
   "id": "d1a8a0a7-51b2-4bed-a07f-cb185b623698",
   "metadata": {},
   "outputs": [],
   "source": [
    "_ = eval_ASR(LSHs, thx_configs, lfw_feat, r50_glint_arc, nbnet, device)"
   ]
  },
  {
   "cell_type": "markdown",
   "id": "62df67f4-6d10-43db-9d1b-aafb62b6c4b3",
   "metadata": {},
   "source": [
    "### Genetic Attack - ASR1, ASR2"
   ]
  },
  {
   "cell_type": "markdown",
   "id": "1afa69a2-111f-42dd-9ee4-48a914c07daa",
   "metadata": {},
   "source": [
    "**NOTE** This reproduces the remaining rows in Table 3."
   ]
  },
  {
   "cell_type": "code",
   "execution_count": null,
   "id": "01f33041-d6c7-45f1-87d6-0e09e54b1c6e",
   "metadata": {},
   "outputs": [],
   "source": [
    "_ = eval_ASR_GEN(LSHs, thx_configs, lfw_feat, r50_glint_arc, nbnet, device)"
   ]
  },
  {
   "cell_type": "code",
   "execution_count": null,
   "id": "5237be50-3ffe-4aa0-a4cc-4dd1a6a0dca2",
   "metadata": {},
   "outputs": [],
   "source": []
  }
 ],
 "metadata": {
  "kernelspec": {
   "display_name": "Python 3 (ipykernel)",
   "language": "python",
   "name": "python3"
  },
  "language_info": {
   "codemirror_mode": {
    "name": "ipython",
    "version": 3
   },
   "file_extension": ".py",
   "mimetype": "text/x-python",
   "name": "python",
   "nbconvert_exporter": "python",
   "pygments_lexer": "ipython3",
   "version": "3.11.4"
  }
 },
 "nbformat": 4,
 "nbformat_minor": 5
}
