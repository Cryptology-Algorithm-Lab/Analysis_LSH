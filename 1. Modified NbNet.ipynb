{
 "cells": [
  {
   "cell_type": "markdown",
   "id": "b11f97e4-a913-46da-b208-59276f9a0a4a",
   "metadata": {},
   "source": [
    "# Modified NbNet"
   ]
  },
  {
   "cell_type": "markdown",
   "id": "33a0e6c2-5d2c-4535-b60f-6144679aa0e2",
   "metadata": {},
   "source": [
    "In this notebook, we will train and evaluate the proposed modified NbNet\n",
    "\n",
    "### Prerequisite\n",
    "Download MS1M-V3 dataset from the following link.\n",
    "- https://drive.google.com/file/d/1JgmzL9OLTqDAZE86pBgETtSQL4USKTFy/view"
   ]
  },
  {
   "cell_type": "markdown",
   "id": "dd8c2c61-e2e6-4e5b-a06c-48c38f0c779c",
   "metadata": {},
   "source": [
    "### Training"
   ]
  },
  {
   "cell_type": "markdown",
   "id": "3537d676-a142-4f57-b235-f2eb4802e3b7",
   "metadata": {},
   "source": [
    "**NOTE** Before running this, you need to modify `INV/config.py` for setting up."
   ]
  },
  {
   "cell_type": "code",
   "execution_count": null,
   "id": "3973976d-ff52-4b58-898a-6ad011d8eec6",
   "metadata": {},
   "outputs": [],
   "source": [
    "!python train_nbnet.py"
   ]
  },
  {
   "cell_type": "markdown",
   "id": "7e2ae6c5-3f08-495f-8b7f-1f959806fb9f",
   "metadata": {},
   "source": [
    "### Evaluation"
   ]
  },
  {
   "cell_type": "code",
   "execution_count": null,
   "id": "291ecd64-f0c8-463b-9f0f-5a73d9080933",
   "metadata": {},
   "outputs": [],
   "source": [
    "# Load feature utilities\n",
    "from feats.utils_feat import load_bin, feat_ext\n",
    "\n",
    "# Load LFW dataset\n",
    "lfw_dir = \"your directory\"\n",
    "lfw = load_bin(lfw_dir, (112, 112))\n",
    "\n",
    "# Load pre-trained NbNet\n",
    "from INV import get_nbnet\n",
    "device = \"your device\"\n",
    "nb_dir = \"your directory\"\n",
    "nbnet = get_nbnet(nb_dir, device)\n",
    "\n",
    "# Load target model\n",
    "from backbones import get_backbone_v2\n",
    "arch = \"your arch\"\n",
    "tg_dir = \"your directory\"\n",
    "is_onnx = False # Set true if so.\n",
    "backbone = get_backbone_v2((arch, tg_dir, is_onnx), device)"
   ]
  },
  {
   "cell_type": "code",
   "execution_count": null,
   "id": "6da989f0-7654-497d-a3ae-f6ec8087b535",
   "metadata": {},
   "outputs": [],
   "source": [
    "# Evaluation Tools\n",
    "from INV.eval_nbnet import attack_visl, attack_eval\n",
    "\n",
    "# Test on a Single Image\n",
    "attack_visl(lfw, backbone, nbnet, device)"
   ]
  },
  {
   "cell_type": "code",
   "execution_count": null,
   "id": "9193cc77-7107-4368-9cdf-aa6c43e45102",
   "metadata": {},
   "outputs": [],
   "source": [
    "# Evaluating ASRs\n",
    "batch_size = 128\n",
    "lfw_feat = feat_ext(lfw, backbone, batch_size, device)\n",
    "\n",
    "# For thx\n",
    "from eval_tools import eval_perf\n",
    "_, _, _, thx = eval_perf(lfw_feat, 1, None, None, batch_size)\n",
    "\n",
    "# Evaluate ASR1, ASR2, and epsilon, along with visualization on the score\n",
    "score_orig, score_1, score_2 = attack_eval(lfw_feat, backbone, nbnet, batch_size, device, thx)"
   ]
  }
 ],
 "metadata": {
  "kernelspec": {
   "display_name": "Python 3 (ipykernel)",
   "language": "python",
   "name": "python3"
  },
  "language_info": {
   "codemirror_mode": {
    "name": "ipython",
    "version": 3
   },
   "file_extension": ".py",
   "mimetype": "text/x-python",
   "name": "python",
   "nbconvert_exporter": "python",
   "pygments_lexer": "ipython3",
   "version": "3.11.4"
  }
 },
 "nbformat": 4,
 "nbformat_minor": 5
}
