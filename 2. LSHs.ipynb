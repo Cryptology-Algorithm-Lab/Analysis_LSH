{
 "cells": [
  {
   "cell_type": "markdown",
   "id": "fe9f24e3-fab7-4555-8add-105c6591aa60",
   "metadata": {},
   "source": [
    "# LSHs\n",
    "\n",
    "In this notebook, we enroll templates through LSH-based BTPs, and evaluate it!"
   ]
  },
  {
   "cell_type": "code",
   "execution_count": null,
   "id": "79b39a05-f6b7-4e90-bf98-a1b99c9394c8",
   "metadata": {},
   "outputs": [],
   "source": [
    "import torch\n",
    "import torch.nn.functional as F\n",
    "\n",
    "from feats.utils_feat import feat_ext, load_bin\n",
    "from fr_utils import get_backbone_v2\n",
    "from INV import get_nbnet\n",
    "from preset import get_LSH_preset\n",
    "from eval_tools import enroll, verify"
   ]
  },
  {
   "cell_type": "markdown",
   "id": "d0288c78-a8e7-4c0b-9bdd-95c33bc627cc",
   "metadata": {},
   "source": [
    "## Settings"
   ]
  },
  {
   "cell_type": "code",
   "execution_count": null,
   "id": "1a78f7c6-22b4-4233-9639-4279cf2f6d8a",
   "metadata": {},
   "outputs": [],
   "source": [
    "device = \"\" # device setting \"cpu\" or \"cuda\"\n",
    "target_dir = \"\" # input your pre-trained target backbone model's directory\n",
    "nbnet_dir = \"\" # input your pre-trainde NbNet model's directory\n",
    "test_dir = \"\" # input your dataset(LFW)'s directory\n",
    "tmp_out_dir = \"\" # where you want to save the LSH templates\n",
    "tmp_dir = \"\" # It is recommended to set it to the same location as tmp_out_dir."
   ]
  },
  {
   "cell_type": "markdown",
   "id": "f3bddbb8-7b79-4b82-9b71-93dff2666b60",
   "metadata": {},
   "source": [
    "### Get Preset LSHs"
   ]
  },
  {
   "cell_type": "code",
   "execution_count": null,
   "id": "982befd1-41b3-4fd6-a7f9-d7f3ec571fdd",
   "metadata": {},
   "outputs": [],
   "source": [
    "LSHs = get_LSH_preset(device)"
   ]
  },
  {
   "cell_type": "markdown",
   "id": "3a23fd2d-1b13-413c-ad94-adb6643df9ab",
   "metadata": {},
   "source": [
    "### Load target model, datasets & Extract features"
   ]
  },
  {
   "cell_type": "code",
   "execution_count": null,
   "id": "d1a2a46a-f594-433c-82a1-aa9140a87e5b",
   "metadata": {},
   "outputs": [],
   "source": [
    "r50_glint_arc = get_backbone_v2((\"r50\", target_dir, False), device) # If supported by get_backbone_v2, you can change \"r50\" to  other models.\n",
    "lfw = load_bin(test_dir + '/lfw.bin', (112,112))\n",
    "lfw_feat = feat_ext(lfw, r50_glint_arc, 512, device)"
   ]
  },
  {
   "cell_type": "markdown",
   "id": "c882a44d-7383-41fe-8fe7-ca2fa3a8e5c0",
   "metadata": {},
   "source": [
    "### Enroll templates"
   ]
  },
  {
   "cell_type": "code",
   "execution_count": null,
   "id": "c55e9536-ebd8-4a4d-be43-8f7a802dc177",
   "metadata": {},
   "outputs": [],
   "source": [
    "enroll(LSHs, lfw_feat, device, out_dir=tmp_out_dir)"
   ]
  },
  {
   "cell_type": "markdown",
   "id": "4d98c662-a42b-4678-9e64-ca53437cbac4",
   "metadata": {},
   "source": [
    "### Verify\n",
    "##### target_far = 1e-3 (target_far = None setting means finding best accuracy)\n",
    "\n",
    "**NOTE** This result reproduces the results in Table 3 (1st row).\n"
   ]
  },
  {
   "cell_type": "code",
   "execution_count": null,
   "id": "60b10b2c-c4a4-4441-b85a-acdd02c9c4a2",
   "metadata": {},
   "outputs": [],
   "source": [
    "_ = verify(LSHs, lfw_feat, device, tmp_dir=tmp_dir, target_far=1e-3)"
   ]
  }
 ],
 "metadata": {
  "kernelspec": {
   "display_name": "Python 3 (ipykernel)",
   "language": "python",
   "name": "python3"
  },
  "language_info": {
   "codemirror_mode": {
    "name": "ipython",
    "version": 3
   },
   "file_extension": ".py",
   "mimetype": "text/x-python",
   "name": "python",
   "nbconvert_exporter": "python",
   "pygments_lexer": "ipython3",
   "version": "3.11.4"
  }
 },
 "nbformat": 4,
 "nbformat_minor": 5
}
