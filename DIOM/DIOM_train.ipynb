{
 "cells": [
  {
   "cell_type": "code",
   "execution_count": null,
   "id": "b8d8f8ac",
   "metadata": {
    "scrolled": true
   },
   "outputs": [],
   "source": [
    "import torch\n",
    "import torch.nn as nn\n",
    "import torch.nn.functional as F\n",
    "import time\n",
    "import matplotlib.pyplot as plt\n",
    "\n",
    "import os\n",
    "import sys\n",
    "module_path = os.path.abspath(os.path.join('..'))\n",
    "if module_path not in sys.path:\n",
    "    sys.path.append(module_path)\n",
    "\n",
    "from backbones import get_backbone\n",
    "from feats.utils_feat import load_bin, feat_ext\n",
    "\n",
    "device = \"\" # device setting \"cpu\" or \"cuda\""
   ]
  },
  {
   "cell_type": "markdown",
   "id": "df7643fb-14fa-47b6-aa0e-99b56c2b9230",
   "metadata": {},
   "source": [
    "### Load dataset & pre-trained model"
   ]
  },
  {
   "cell_type": "code",
   "execution_count": null,
   "id": "578fb825-cecd-41f7-a9ba-25dcbb74b3fe",
   "metadata": {},
   "outputs": [],
   "source": [
    "data_dir = \"\"  # input your dataset(LFW)'s directory\n",
    "lfw = load_bin( data_dir + '/lfw.bin', (112,112))\n",
    "\n",
    "bb_dir = \"\" # input your pre-trained target backbone model's directory\n",
    "backbone = get_backbone(\"r50\", bb_dir , device) # If supported by get_backbone_v2, you can change \"r50\" to  other models."
   ]
  },
  {
   "cell_type": "markdown",
   "id": "9614f57a-b87d-4343-ae3f-0789f320d6d1",
   "metadata": {},
   "source": [
    "### Feature extraction"
   ]
  },
  {
   "cell_type": "code",
   "execution_count": null,
   "id": "24a1279d",
   "metadata": {
    "scrolled": true
   },
   "outputs": [],
   "source": [
    "feat_lfw = feat_ext(lfw, backbone, batch_size=256, device)"
   ]
  },
  {
   "cell_type": "markdown",
   "id": "b24216a3-2cb7-4188-b91f-25edabed69da",
   "metadata": {},
   "source": [
    "### Train config setting"
   ]
  },
  {
   "cell_type": "code",
   "execution_count": null,
   "id": "a06ccddd",
   "metadata": {},
   "outputs": [],
   "source": [
    "from DIOM_train import *"
   ]
  },
  {
   "cell_type": "code",
   "execution_count": null,
   "id": "aeff0611",
   "metadata": {
    "scrolled": true
   },
   "outputs": [],
   "source": [
    "from easydict import EasyDict as edict\n",
    "cfg = edict()\n",
    "cfg.feat_lfw = feat_lfw\n",
    "cfg.lr = 1e-5\n",
    "cfg.epoch = 100\n",
    "device = device\n",
    "cfg.log_dir = \"./DIOM_train.txt\" # log file dir \n",
    "cfg.verbose = 100\n",
    "cfg.epc_verbose = 2000 \n",
    "cfg.batch_size = 256\n",
    "cfg.m = 512\n",
    "cfg.q = 30\n",
    "cfg.l = 1024\n",
    "cfg.balance = True\n",
    "torch.backends.cudnn.benchmark = True"
   ]
  },
  {
   "cell_type": "markdown",
   "id": "bb8c3ee5-703b-471f-91fd-40ba20e5ffe4",
   "metadata": {},
   "source": [
    "### Do train!"
   ]
  },
  {
   "cell_type": "code",
   "execution_count": null,
   "id": "1b17e7e0-1557-4cc2-a003-560b3632712d",
   "metadata": {},
   "outputs": [],
   "source": [
    "train(cfg, device)"
   ]
  }
 ],
 "metadata": {
  "kernelspec": {
   "display_name": "Python 3 (ipykernel)",
   "language": "python",
   "name": "python3"
  },
  "language_info": {
   "codemirror_mode": {
    "name": "ipython",
    "version": 3
   },
   "file_extension": ".py",
   "mimetype": "text/x-python",
   "name": "python",
   "nbconvert_exporter": "python",
   "pygments_lexer": "ipython3",
   "version": "3.11.4"
  }
 },
 "nbformat": 4,
 "nbformat_minor": 5
}
