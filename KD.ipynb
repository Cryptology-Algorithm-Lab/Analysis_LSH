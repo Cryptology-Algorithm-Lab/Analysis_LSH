{
 "cells": [
  {
   "cell_type": "markdown",
   "id": "e36aa902",
   "metadata": {},
   "source": [
    "### Simple KD code for training NbNet"
   ]
  },
  {
   "cell_type": "code",
   "execution_count": null,
   "id": "12b98fc7",
   "metadata": {
    "scrolled": true
   },
   "outputs": [],
   "source": [
    "from nbnet.distillation import train\n",
    "from nbnet.config import args\n",
    "\n",
    "train(args)"
   ]
  }
 ],
 "metadata": {
  "kernelspec": {
   "display_name": "Python 3 (ipykernel)",
   "language": "python",
   "name": "python3"
  },
  "language_info": {
   "codemirror_mode": {
    "name": "ipython",
    "version": 3
   },
   "file_extension": ".py",
   "mimetype": "text/x-python",
   "name": "python",
   "nbconvert_exporter": "python",
   "pygments_lexer": "ipython3",
   "version": "3.9.15"
  }
 },
 "nbformat": 4,
 "nbformat_minor": 5
}
