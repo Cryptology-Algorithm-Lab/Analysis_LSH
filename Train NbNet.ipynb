{
 "cells": [
  {
   "cell_type": "markdown",
   "id": "303f9e23",
   "metadata": {},
   "source": [
    "### Training Code for NbNet"
   ]
  },
  {
   "cell_type": "code",
   "execution_count": null,
   "id": "3a50440d",
   "metadata": {},
   "outputs": [],
   "source": [
    "from nbnet.train_nbnet import Trainer\n",
    "from nbnet.config import args"
   ]
  },
  {
   "cell_type": "code",
   "execution_count": null,
   "id": "1e996362",
   "metadata": {},
   "outputs": [],
   "source": [
    "trainer = Trainer(args)\n",
    "torch.backends.cudnn.benchmark = True\n",
    "trainer.train()"
   ]
  }
 ],
 "metadata": {
  "kernelspec": {
   "display_name": "Python 3 (ipykernel)",
   "language": "python",
   "name": "python3"
  },
  "language_info": {
   "codemirror_mode": {
    "name": "ipython",
    "version": 3
   },
   "file_extension": ".py",
   "mimetype": "text/x-python",
   "name": "python",
   "nbconvert_exporter": "python",
   "pygments_lexer": "ipython3",
   "version": "3.9.15"
  }
 },
 "nbformat": 4,
 "nbformat_minor": 5
}
