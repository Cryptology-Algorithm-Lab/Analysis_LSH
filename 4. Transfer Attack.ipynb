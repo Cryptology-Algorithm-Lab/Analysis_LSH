{
 "cells": [
  {
   "cell_type": "markdown",
   "id": "7b05ac7c-8a85-4250-977f-94859e1b4a06",
   "metadata": {},
   "source": [
    "# Transfer Attack\n",
    "This notebook provides our transferability analysis results on the recovered facial images."
   ]
  },
  {
   "cell_type": "code",
   "execution_count": null,
   "id": "cdf14d04-ee75-4348-85fd-228242f17299",
   "metadata": {},
   "outputs": [],
   "source": [
    "import torch\n",
    "from torch import nn\n",
    "import torch.nn.functional as F\n",
    "from tqdm.auto import tqdm\n",
    "\n",
    "from nbnet import get_nbnet\n",
    "from feats.utils_feat import load_bin\n",
    "from preset import get_transfer_preset\n",
    "from eval_tools import eval_bbs   \n",
    "from eval_attack import tf_attack_ours\n",
    "device = \"\" # your device setting \"cpu\" or \"cuda\""
   ]
  },
  {
   "cell_type": "markdown",
   "id": "9a12ff48-65da-472f-808d-d3fb66fc9566",
   "metadata": {},
   "source": [
    "### Load Transfer target backbone\n",
    "\n",
    "##### param_dir : transfer attack target model parameter's directory\n",
    "\n",
    "#### Reference of pre-trained models\n",
    "##### - R100_Glint_Cosface : [Insightface] https://github.com/deepinsight/insightface/tree/master/model_zoo \n",
    "##### - R50_Webface_Arcface : [Insightface] https://github.com/deepinsight/insightface/tree/master/model_zoo \n",
    "##### - SF20_VGGface_Sphereface : [Opensphere] https://github.com/ydwen/opensphere\n",
    "##### - SF64_MS1MV2_Sphereface : [Opensphere] https://github.com/ydwen/opensphere\n",
    "##### - Vit_MS1MV3_Cosface : https://github.com/zhongyy/Face-Transformer"
   ]
  },
  {
   "cell_type": "code",
   "execution_count": null,
   "id": "8aa3cd44-5f30-423f-90fc-fe743a3e7180",
   "metadata": {},
   "outputs": [],
   "source": [
    "param_dir  = \"\" # your parmeter's directory, you can download pre-trained models from above links\n",
    "backbones = get_transfer_preset(param_dir = param_dir, device = device)"
   ]
  },
  {
   "cell_type": "markdown",
   "id": "268cdb98-313c-4b8e-be31-8730a9ae0582",
   "metadata": {},
   "source": [
    "### Load dataset\n",
    "\n",
    "##### test_dir : testset's directory(LFW dataset)"
   ]
  },
  {
   "cell_type": "code",
   "execution_count": null,
   "id": "2d545018-a3e5-4d98-8488-381ed877669f",
   "metadata": {},
   "outputs": [],
   "source": [
    "test_dir = \"\"  # input your dataset(LFW)'s directory\n",
    "lfw = load_bin(test_dir + '/lfw.bin', (112,112))"
   ]
  },
  {
   "cell_type": "markdown",
   "id": "77bdfe7d-282b-4824-ac5a-a7a347316b3d",
   "metadata": {},
   "source": [
    "### Evaluation of transfer taget models\n",
    "\n",
    "##### backbones : Lists of transfer target models\n",
    "##### lfw : lfw datasets\n",
    "##### device : device"
   ]
  },
  {
   "cell_type": "markdown",
   "id": "a63e6315-bd6e-4fb4-bbbf-8170c1fca8cc",
   "metadata": {},
   "source": [
    "**NOTE** This reproduces Table 5."
   ]
  },
  {
   "cell_type": "code",
   "execution_count": null,
   "id": "92ad312b-bbd4-4b15-a684-c8879a4fa9c6",
   "metadata": {},
   "outputs": [],
   "source": [
    "result = eval_bbs(backbones, lfw, device)"
   ]
  },
  {
   "cell_type": "markdown",
   "id": "78ea8f45-276d-4d4e-8ba4-7ee367a44c44",
   "metadata": {},
   "source": [
    "### Transfer attacks on target models"
   ]
  },
  {
   "cell_type": "markdown",
   "id": "e53aaf7a-e5cd-4b9c-a350-bb45aa430e39",
   "metadata": {},
   "source": [
    "**NOTE** This reproduces Table 6."
   ]
  },
  {
   "cell_type": "code",
   "execution_count": null,
   "id": "d84f5dc1-46a5-4456-893d-900a1f0238b5",
   "metadata": {},
   "outputs": [],
   "source": [
    "nbnet_dir = \"\" # input your pre-trainde NbNet model's directory\n",
    "nbnet = get_nbnet(nbnet_dir, device)"
   ]
  },
  {
   "cell_type": "code",
   "execution_count": null,
   "id": "026f0405-17bf-489f-9112-d5ac13b59bfd",
   "metadata": {},
   "outputs": [],
   "source": [
    "pre_dir = \"\" # directory where you've already saved the recovered pre-images from LSH templates.\n",
    "dir_configs = dict()\n",
    "dir_configs[\"BH\"] = pre_dir + \"BH.pt\"\n",
    "dir_configs[\"GRP\"] = pre_dir + \"GRP.pt\"\n",
    "dir_configs[\"URP\"] = pre_dir + \"URP.pt\"\n",
    "dir_configs[\"DIoM\"] = pre_dir + \"ABH.pt\"\n",
    "dir_configs[\"IMM\"] = pre_dir + \"IMM.pt\"\n",
    "dir_configs[\"ABH\"] = pre_dir + \"DIoM.pt\"\n",
    "dir_configs[\"Jiang\"] = pre_dir + \"Jiang.pt\""
   ]
  },
  {
   "cell_type": "code",
   "execution_count": null,
   "id": "1557301c-ec09-4d39-8abb-d540c6fd08f6",
   "metadata": {
    "scrolled": true
   },
   "outputs": [],
   "source": [
    "lsh_names = [\"BH\", \"GRP\", \"URP\", \"DIoM\", \"IMM\", \"ABH\", \"Jiang\"]\n",
    "for name in lsh_names:\n",
    "    _ = tf_attack_ours(name, lfw, result, nbnet, dir_configs, device)"
   ]
  },
  {
   "cell_type": "code",
   "execution_count": null,
   "id": "69225c0f-74d9-40a8-91dd-d958ffa0746b",
   "metadata": {},
   "outputs": [],
   "source": []
  }
 ],
 "metadata": {
  "kernelspec": {
   "display_name": "Python 3 (ipykernel)",
   "language": "python",
   "name": "python3"
  },
  "language_info": {
   "codemirror_mode": {
    "name": "ipython",
    "version": 3
   },
   "file_extension": ".py",
   "mimetype": "text/x-python",
   "name": "python",
   "nbconvert_exporter": "python",
   "pygments_lexer": "ipython3",
   "version": "3.11.4"
  }
 },
 "nbformat": 4,
 "nbformat_minor": 5
}
